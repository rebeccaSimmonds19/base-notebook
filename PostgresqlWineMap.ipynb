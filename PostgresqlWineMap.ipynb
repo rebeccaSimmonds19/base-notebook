{
 "cells": [
  {
   "cell_type": "markdown",
   "metadata": {},
   "source": [
    "# Starter Sample App: Global Wine Reviews\n",
    "\n",
    "## Overview\n",
    "\n",
    "This sample application is a small example used to help me get acquainted with daikon processes. The notebook is exposed through an application on openshift. It loads in information about global wine reviews and then displays the mean review points for each wine per country on a coloured map. The lighter the area the higher the review score."
   ]
  },
  {
   "cell_type": "markdown",
   "metadata": {},
   "source": [
    "# Oshinko\n",
    "\n",
    "This first cell connects to a local spark session and enter the config for the postgresql driver.\n",
    "\n",
    "## Review\n",
    "\n",
    "### Advantages:\n",
    "\n",
    "Creating the oshinko template and web-ui is very easy and simple to do.\n",
    "\n",
    "The webui enables fast and easy deployment of a spark cluster.\n",
    "\n",
    "Tutorials easy to get up and running and help to explain the technologies.\n",
    "\n",
    "### Disadvantages \n",
    "\n",
    "I kept running into an intermittent connection problem with spark - i have not seen this again since i cleaned my docker images.\n",
    "\n",
    "Oshinko cluster doesn't find postgresql driver there must be some way of telling all the nodes in the spark cluster about the driver. The research on the internet was ambiguous and I have tried many of the solutions without success (any help appreciated).\n",
    "\n",
    "The JGrafZahl and GrafZahl did not work locally for me this is either because of a networking issue on mac OS or becuase i was running 3.6."
   ]
  },
  {
   "cell_type": "code",
   "execution_count": 1,
   "metadata": {},
   "outputs": [
    {
     "data": {
      "text/html": [
       "<script>requirejs.config({paths: { 'plotly': ['https://cdn.plot.ly/plotly-latest.min']},});if(!window.Plotly) {{require(['plotly'],function(plotly) {window.Plotly=plotly;});}}</script>"
      ],
      "text/vnd.plotly.v1+html": [
       "<script>requirejs.config({paths: { 'plotly': ['https://cdn.plot.ly/plotly-latest.min']},});if(!window.Plotly) {{require(['plotly'],function(plotly) {window.Plotly=plotly;});}}</script>"
      ]
     },
     "metadata": {},
     "output_type": "display_data"
    }
   ],
   "source": [
    "import pyspark\n",
    "from pyspark.sql import SparkSession, SQLContext\n",
    "from pyspark.sql.functions import mean, desc\n",
    "import plotly.plotly as py\n",
    "from plotly.offline import download_plotlyjs, init_notebook_mode, plot,iplot\n",
    "init_notebook_mode(connected=True)\n",
    "\n",
    "sparkSession = SparkSession.builder.master(\"local[*]\") \\\n",
    ".config(\"spark.driver.extraClassPath\",\"/opt/postgresql-42.1.4.jar\") \\\n",
    ".getOrCreate()"
   ]
  },
  {
   "cell_type": "markdown",
   "metadata": {},
   "source": [
    "# Importing Data\n",
    "\n",
    "This cell imports data from a local csv file, which contains information about different wines across the world the two main data points this application focuses on is the country and the number of points each wine received for that country. The wine review data is then written into a Postgresql database hosted on openshift. \n",
    "\n",
    "## Review\n",
    "\n",
    "### Advantages\n",
    "\n",
    "The postgresql docker image is very easy to pull and deploy.\n",
    "\n",
    "The open shift web page containing these instructions is easy to follow.\n",
    "\n",
    "### Disadvantages\n",
    "\n",
    "The only problem with importing data is when you upload it to a cluster you need to state an endpoint, which you may not have if you are simply trying to upload a csv file.- This is being looked at."
   ]
  },
  {
   "cell_type": "code",
   "execution_count": 2,
   "metadata": {
    "collapsed": true
   },
   "outputs": [],
   "source": [
    "import psycopg2\n",
    "conn = psycopg2.connect(\"host='172.17.0.4' port='5432' dbname='wineDb' user='username' password='password'\")\n",
    "cur = conn.cursor()\n",
    "#make table\n",
    "f = open(r'wineData.csv', 'r')\n",
    "cur.copy_from(f, \"wine_reviews\", sep=',')\n",
    "conn.commit()\n",
    "f.close()"
   ]
  },
  {
   "cell_type": "markdown",
   "metadata": {},
   "source": [
    "# Creating the Map\n",
    "\n",
    "This wine review data is then loaded into the spark session and put into a dataframe. The country and the amount of review points the wine received is then selected and the mean taken. These are ordered and then put into lists to display in the map using plotly. \n",
    "\n",
    "\n",
    "## Review\n",
    "\n",
    "### Advantages\n",
    "\n",
    "It was easy to change the docker file in the base-notebook repo i forked to add in new libraries like plotly.\n",
    "\n",
    "The data frames gave you a lot of flexibility for querying the data.\n",
    "\n",
    "The task gave me a lot of work which helped me to review and work through the processes and technologies used by the team - and continues to do so.\n",
    "\n",
    "## Future Work:\n",
    "\n",
    "Make the notebook into a native cloud application.\n"
   ]
  },
  {
   "cell_type": "code",
   "execution_count": 3,
   "metadata": {},
   "outputs": [
    {
     "data": {
      "application/vnd.plotly.v1+json": {
       "data": [
        {
         "colorbar": {
          "title": "Average Rating"
         },
         "colorscale": "Blues",
         "locationmode": "country names",
         "locations": [
          "England",
          "Switzerland",
          "",
          "Austria",
          "France",
          "Germany",
          "Morocco",
          "Italy",
          "Canada",
          "India",
          "Slovenia",
          "Hungary",
          "Australia",
          "US",
          "Turkey",
          "New Zealand",
          "Albania",
          "Portugal",
          "Israel",
          "Serbia",
          "Croatia",
          "South Africa",
          "Moldova",
          "Lebanon",
          "Macedonia",
          "Cyprus",
          "Spain",
          "Bulgaria",
          "Greece",
          "Chile",
          "Romania",
          "Argentina",
          "Bosnia and Herzegovina",
          "Uruguay",
          "Georgia",
          "Japan",
          "Ukraine",
          "Lithuania",
          "Brazil",
          "Mexico",
          "China",
          "Montenegro",
          "South Korea"
         ],
         "type": "choropleth",
         "z": [
          92.88888888888889,
          90,
          90,
          89.5986301369863,
          88.93373307143595,
          88.87385321100918,
          88.72727272727273,
          88.53147996729354,
          88.49019607843137,
          88.42857142857143,
          88.41379310344827,
          88.33766233766234,
          88.23790552077405,
          88.13845868152275,
          88.09803921568627,
          88.04268943436499,
          88,
          87.99804228660923,
          87.79821958456974,
          87.71428571428571,
          87.62857142857143,
          87.5940959409594,
          87.46153846153847,
          87.375,
          87.14285714285714,
          87,
          86.81990778410632,
          86.80555555555556,
          86.76109215017065,
          86.70969245107176,
          86.29268292682927,
          86.11,
          85.5,
          85.46153846153847,
          85.4375,
          85,
          84.6,
          84.25,
          83.875,
          83.3,
          82,
          82,
          81.5
         ]
        }
       ],
       "layout": {
        "geo": {
         "scope": "world"
        }
       }
      },
      "text/html": [
       "<div id=\"04e9412d-ace2-4dd7-b030-fbfa34fe9031\" style=\"height: 525px; width: 100%;\" class=\"plotly-graph-div\"></div><script type=\"text/javascript\">require([\"plotly\"], function(Plotly) { window.PLOTLYENV=window.PLOTLYENV || {};window.PLOTLYENV.BASE_URL=\"https://plot.ly\";Plotly.newPlot(\"04e9412d-ace2-4dd7-b030-fbfa34fe9031\", [{\"colorscale\": \"Blues\", \"type\": \"choropleth\", \"locations\": [\"England\", \"Switzerland\", \"\", \"Austria\", \"France\", \"Germany\", \"Morocco\", \"Italy\", \"Canada\", \"India\", \"Slovenia\", \"Hungary\", \"Australia\", \"US\", \"Turkey\", \"New Zealand\", \"Albania\", \"Portugal\", \"Israel\", \"Serbia\", \"Croatia\", \"South Africa\", \"Moldova\", \"Lebanon\", \"Macedonia\", \"Cyprus\", \"Spain\", \"Bulgaria\", \"Greece\", \"Chile\", \"Romania\", \"Argentina\", \"Bosnia and Herzegovina\", \"Uruguay\", \"Georgia\", \"Japan\", \"Ukraine\", \"Lithuania\", \"Brazil\", \"Mexico\", \"China\", \"Montenegro\", \"South Korea\"], \"colorbar\": {\"title\": \"Average Rating\"}, \"z\": [92.88888888888889, 90.0, 90.0, 89.5986301369863, 88.93373307143595, 88.87385321100918, 88.72727272727273, 88.53147996729354, 88.49019607843137, 88.42857142857143, 88.41379310344827, 88.33766233766234, 88.23790552077405, 88.13845868152275, 88.09803921568627, 88.04268943436499, 88.0, 87.99804228660923, 87.79821958456974, 87.71428571428571, 87.62857142857143, 87.5940959409594, 87.46153846153847, 87.375, 87.14285714285714, 87.0, 86.81990778410632, 86.80555555555556, 86.76109215017065, 86.70969245107176, 86.29268292682927, 86.11, 85.5, 85.46153846153847, 85.4375, 85.0, 84.6, 84.25, 83.875, 83.3, 82.0, 82.0, 81.5], \"locationmode\": \"country names\"}], {\"geo\": {\"scope\": \"world\"}}, {\"linkText\": \"Export to plot.ly\", \"showLink\": true})});</script>"
      ],
      "text/vnd.plotly.v1+html": [
       "<div id=\"04e9412d-ace2-4dd7-b030-fbfa34fe9031\" style=\"height: 525px; width: 100%;\" class=\"plotly-graph-div\"></div><script type=\"text/javascript\">require([\"plotly\"], function(Plotly) { window.PLOTLYENV=window.PLOTLYENV || {};window.PLOTLYENV.BASE_URL=\"https://plot.ly\";Plotly.newPlot(\"04e9412d-ace2-4dd7-b030-fbfa34fe9031\", [{\"colorscale\": \"Blues\", \"type\": \"choropleth\", \"locations\": [\"England\", \"Switzerland\", \"\", \"Austria\", \"France\", \"Germany\", \"Morocco\", \"Italy\", \"Canada\", \"India\", \"Slovenia\", \"Hungary\", \"Australia\", \"US\", \"Turkey\", \"New Zealand\", \"Albania\", \"Portugal\", \"Israel\", \"Serbia\", \"Croatia\", \"South Africa\", \"Moldova\", \"Lebanon\", \"Macedonia\", \"Cyprus\", \"Spain\", \"Bulgaria\", \"Greece\", \"Chile\", \"Romania\", \"Argentina\", \"Bosnia and Herzegovina\", \"Uruguay\", \"Georgia\", \"Japan\", \"Ukraine\", \"Lithuania\", \"Brazil\", \"Mexico\", \"China\", \"Montenegro\", \"South Korea\"], \"colorbar\": {\"title\": \"Average Rating\"}, \"z\": [92.88888888888889, 90.0, 90.0, 89.5986301369863, 88.93373307143595, 88.87385321100918, 88.72727272727273, 88.53147996729354, 88.49019607843137, 88.42857142857143, 88.41379310344827, 88.33766233766234, 88.23790552077405, 88.13845868152275, 88.09803921568627, 88.04268943436499, 88.0, 87.99804228660923, 87.79821958456974, 87.71428571428571, 87.62857142857143, 87.5940959409594, 87.46153846153847, 87.375, 87.14285714285714, 87.0, 86.81990778410632, 86.80555555555556, 86.76109215017065, 86.70969245107176, 86.29268292682927, 86.11, 85.5, 85.46153846153847, 85.4375, 85.0, 84.6, 84.25, 83.875, 83.3, 82.0, 82.0, 81.5], \"locationmode\": \"country names\"}], {\"geo\": {\"scope\": \"world\"}}, {\"linkText\": \"Export to plot.ly\", \"showLink\": true})});</script>"
      ]
     },
     "metadata": {},
     "output_type": "display_data"
    }
   ],
   "source": [
    "import plotly.graph_objs as go\n",
    "\n",
    "url = \"jdbc:postgresql://172.17.0.4/wineDb?user=username&password=password\"\n",
    "df = (sparkSession.read.format(\"jdbc\")\n",
    "    .options(url=url, dbtable=\"wine_reviews\")\n",
    "    .load())\n",
    "\n",
    "table = df.select('country','points').groupBy('country').agg(mean('points')).orderBy('avg(points)',ascending=False)\n",
    "countryCols = table.select('country').collect()\n",
    "countries = list()\n",
    "for country in countryCols:\n",
    "    countries.append(str(country[0]))\n",
    "pointCols = table.select('avg(points)').collect()\n",
    "points = list()\n",
    "for point in pointCols:\n",
    "    points.append(point[0])\n",
    "data =  dict(type = 'choropleth',\n",
    "        locationmode='country names',\n",
    "        locations = countries,\n",
    "        colorscale='Blues',\n",
    "        z = points,\n",
    "        colorbar = {'title': 'Average Rating'}\n",
    ")\n",
    "layout = dict(geo = {'scope':'world'})\n",
    "choromap = go.Figure(data = [data],layout = layout)\n",
    "iplot(choromap)"
   ]
  },
  {
   "cell_type": "code",
   "execution_count": null,
   "metadata": {
    "collapsed": true
   },
   "outputs": [],
   "source": []
  }
 ],
 "metadata": {
  "kernelspec": {
   "display_name": "Python 2",
   "language": "python",
   "name": "python2"
  },
  "language_info": {
   "codemirror_mode": {
    "name": "ipython",
    "version": 2
   },
   "file_extension": ".py",
   "mimetype": "text/x-python",
   "name": "python",
   "nbconvert_exporter": "python",
   "pygments_lexer": "ipython2",
   "version": "2.7.13"
  }
 },
 "nbformat": 4,
 "nbformat_minor": 2
}
