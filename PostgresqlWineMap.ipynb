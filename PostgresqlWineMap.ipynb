{
 "cells": [
  {
   "cell_type": "code",
   "execution_count": null,
   "metadata": {
    "collapsed": true
   },
   "outputs": [],
   "source": [
    "import pyspark\n",
    "from pyspark.sql import SparkSession, SQLContext\n",
    "from pyspark.sql.functions import mean, desc\n",
    "import plotly.plotly as py\n",
    "from plotly.offline import download_plotlyjs, init_notebook_mode, plot,iplot\n",
    "init_notebook_mode(connected=True)\n",
    "\n",
    "sparkSession = SparkSession.builder.master(\"spark://winemap:7077\") \\\n",
    ".config(\"spark.driver.extraClassPath\",\"/opt/postgresql-42.1.4.jar\") \\\n",
    ".getOrCreate()"
   ]
  },
  {
   "cell_type": "code",
   "execution_count": null,
   "metadata": {
    "collapsed": true
   },
   "outputs": [],
   "source": [
    "import psycopg2\n",
    "conn = psycopg2.connect(\"host='172.17.0.4' port='5432' dbname='wineDb' user='username' password='password'\")\n",
    "cur = conn.cursor()\n",
    "#make table\n",
    "f = open(r'wineData.csv', 'r')\n",
    "cur.copy_from(f, \"wine_reviews\", sep=',')\n",
    "conn.commit()\n",
    "f.close()"
   ]
  },
  {
   "cell_type": "code",
   "execution_count": null,
   "metadata": {
    "collapsed": true
   },
   "outputs": [],
   "source": [
    "import plotly.graph_objs as go\n",
    "\n",
    "url = \"jdbc:postgresql://172.17.0.4/wineDb?user=username&password=password\"\n",
    "df = (sparkSession.read.format(\"jdbc\")\n",
    "    .options(url=url, dbtable=\"wine_reviews\")\n",
    "    .load())\n",
    "\n",
    "table = df.select('country','points').groupBy('country').agg(mean('points')).orderBy('avg(points)',ascending=False)\n",
    "countryCols = table.select('country').show(5)\n",
    "countries = list()\n",
    "for country in countryCols:\n",
    "    print(country[0])\n",
    "    countries.append(str(country[0]))\n",
    "pointCols = table.select('avg(points)')\n",
    "points = list()\n",
    "for point in pointCols:\n",
    "    points.append(point[0])\n",
    "data =  dict(type = 'choropleth',\n",
    "        locationmode='country names',\n",
    "        locations = countries,\n",
    "        colorscale='Blues',\n",
    "        z = points,\n",
    "        colorbar = {'title': 'Average Rating'}\n",
    ")\n",
    "print(data)\n",
    "layout = dict(geo = {'scope':'world'})\n",
    "choromap = go.Figure(data = [data],layout = layout)\n",
    "iplot(choromap)"
   ]
  }
 ],
 "metadata": {
  "kernelspec": {
   "display_name": "Python 2",
   "language": "python",
   "name": "python2"
  },
  "language_info": {
   "codemirror_mode": {
    "name": "ipython",
    "version": 2
   },
   "file_extension": ".py",
   "mimetype": "text/x-python",
   "name": "python",
   "nbconvert_exporter": "python",
   "pygments_lexer": "ipython2",
   "version": "2.7.13"
  }
 },
 "nbformat": 4,
 "nbformat_minor": 2
}
