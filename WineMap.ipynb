{
 "cells": [
  {
   "cell_type": "code",
   "execution_count": 3,
   "metadata": {},
   "outputs": [
    {
     "data": {
      "text/html": [
       "<script>requirejs.config({paths: { 'plotly': ['https://cdn.plot.ly/plotly-latest.min']},});if(!window.Plotly) {{require(['plotly'],function(plotly) {window.Plotly=plotly;});}}</script>"
      ],
      "text/vnd.plotly.v1+html": [
       "<script>requirejs.config({paths: { 'plotly': ['https://cdn.plot.ly/plotly-latest.min']},});if(!window.Plotly) {{require(['plotly'],function(plotly) {window.Plotly=plotly;});}}</script>"
      ]
     },
     "metadata": {},
     "output_type": "display_data"
    }
   ],
   "source": [
    "import pyspark\n",
    "from pyspark.sql import SparkSession, SQLContext\n",
    "from pyspark.context import SparkContext\n",
    "from pyspark.sql.functions import mean, desc\n",
    "import plotly.plotly as py\n",
    "from plotly.offline import download_plotlyjs, init_notebook_mode, plot,iplot\n",
    "import plotly.graph_objs as go\n",
    "init_notebook_mode(connected=True)\n",
    "\n",
    "#spark = SparkSession.builder.master(\"local[*]\").getOrCreate()\n",
    "#sc = SparkContext(\"spark://winemap:7077\")\n",
    "sparkSession = SparkSession.builder.master(\"spark://winemap:7077\").getOrCreate()\n",
    "#  .appName(\"my-spark-app\")\n",
    "#  .config(\"spark.some.config.option\", \"config-value\")\n"
   ]
  },
  {
   "cell_type": "code",
   "execution_count": null,
   "metadata": {},
   "outputs": [],
   "source": [
    "df = (sparkSession.read\n",
    "         .format(\"com.databricks.spark.csv\")\n",
    "         .option(\"header\", \"true\")\n",
    "         .option(\"inferSchema\", \"true\")\n",
    "         .load(\"wine_no_des.csv\"))\n",
    "table = df.select('country','points').groupBy('country').agg(mean('points')).orderBy('avg(points)',ascending=False)\n",
    "countryCols = table.select('country').collect()\n",
    "countries = list()\n",
    "for country in countryCols:\n",
    "    countries.append(str(country[0]))\n",
    "pointCols = table.select('avg(points)').collect()\n",
    "points = list()\n",
    "for point in pointCols:\n",
    "    points.append(point[0])\n",
    "data =  dict(type = 'choropleth',\n",
    "        locationmode='country names',\n",
    "        locations = countries,\n",
    "        colorscale='Blues',\n",
    "        z = points,\n",
    "        colorbar = {'title': 'Average Rating'}\n",
    ")\n",
    "layout = dict(geo = {'scope':'world'})\n",
    "choromap = go.Figure(data = [data],layout = layout)\n",
    "iplot(choromap)"
   ]
  },
  {
   "cell_type": "code",
   "execution_count": null,
   "metadata": {
    "collapsed": true
   },
   "outputs": [],
   "source": []
  },
  {
   "cell_type": "code",
   "execution_count": null,
   "metadata": {
    "collapsed": true
   },
   "outputs": [],
   "source": []
  }
 ],
 "metadata": {
  "kernelspec": {
   "display_name": "Python 2",
   "language": "python",
   "name": "python2"
  },
  "language_info": {
   "codemirror_mode": {
    "name": "ipython",
    "version": 2
   },
   "file_extension": ".py",
   "mimetype": "text/x-python",
   "name": "python",
   "nbconvert_exporter": "python",
   "pygments_lexer": "ipython2",
   "version": "2.7.13"
  }
 },
 "nbformat": 4,
 "nbformat_minor": 2
}
